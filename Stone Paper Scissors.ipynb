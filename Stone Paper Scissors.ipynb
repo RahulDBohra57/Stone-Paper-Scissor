{
 "cells": [
  {
   "cell_type": "code",
   "execution_count": 22,
   "id": "7d9e5083-9f7c-4527-afa7-1346c29a94d1",
   "metadata": {},
   "outputs": [
    {
     "name": "stdin",
     "output_type": "stream",
     "text": [
      "Enter your choice. 's' is Stone, 'p' is Paper & 's' is Scissors:   r\n"
     ]
    },
    {
     "name": "stdout",
     "output_type": "stream",
     "text": [
      "It's a tie\n",
      "You chose r and computer chose r\n"
     ]
    }
   ],
   "source": [
    "import random\n",
    "\n",
    "user = input(\"Enter your choice. 's' is Stone, 'p' is Paper & 's' is Scissors:  \")\n",
    "computer = random.choice(['r', 'p', 's'])\n",
    "\n",
    "if user == computer:\n",
    "    print(\"It's a tie\")\n",
    "\n",
    "elif (user == 'r' and computer == 's') or (user == 'p' and computer == 'r') or (user == 's' and computer == 'p'):\n",
    "    print(\"You won!\")\n",
    "\n",
    "else:\n",
    "    print(\"You lost!\")\n",
    "\n",
    "print(f'You chose {user} and computer chose {computer}')"
   ]
  },
  {
   "cell_type": "code",
   "execution_count": null,
   "id": "2a8a2aee-8200-458f-ad14-b1ac0143d765",
   "metadata": {},
   "outputs": [],
   "source": []
  },
  {
   "cell_type": "code",
   "execution_count": null,
   "id": "51c788f1-e732-4d58-99c1-ad713aa3c5f4",
   "metadata": {},
   "outputs": [],
   "source": []
  }
 ],
 "metadata": {
  "kernelspec": {
   "display_name": "Python [conda env:base] *",
   "language": "python",
   "name": "conda-base-py"
  },
  "language_info": {
   "codemirror_mode": {
    "name": "ipython",
    "version": 3
   },
   "file_extension": ".py",
   "mimetype": "text/x-python",
   "name": "python",
   "nbconvert_exporter": "python",
   "pygments_lexer": "ipython3",
   "version": "3.13.5"
  }
 },
 "nbformat": 4,
 "nbformat_minor": 5
}
